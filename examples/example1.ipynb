{
 "cells": [
  {
   "cell_type": "code",
   "execution_count": null,
   "id": "fe686c4b-bdd9-40c7-aa01-687aa4e36336",
   "metadata": {},
   "outputs": [],
   "source": []
  },
  {
   "cell_type": "code",
   "execution_count": null,
   "id": "854d1ba2-fdd6-457d-ab41-e286e02f5817",
   "metadata": {
    "tags": []
   },
   "outputs": [],
   "source": [
    "import os\n",
    "os.environ[\"DISABLE_MPI\"]=\"true\"\n",
    "from fgbias import setup_AAAA_recon, get_bias_terms, get_cl_smooth\n",
    "from falafel import utils as futils, qe\n",
    "import numpy as np\n",
    "from orphics import maps\n",
    "import healpy as hp\n",
    "from pixell import curvedsky"
   ]
  },
  {
   "cell_type": "code",
   "execution_count": null,
   "id": "24f71a1c-35b7-4a33-ada7-8bedfa943eae",
   "metadata": {
    "tags": []
   },
   "outputs": [],
   "source": [
    "# Set some options for the lensing reconstruction"
   ]
  },
  {
   "cell_type": "code",
   "execution_count": null,
   "id": "6cc599fb-f3dd-496d-afc7-fa54702fcf1a",
   "metadata": {
    "tags": []
   },
   "outputs": [],
   "source": [
    "lmin = 100\n",
    "lmax = 1000\n",
    "mlmax = 1000"
   ]
  },
  {
   "cell_type": "code",
   "execution_count": null,
   "id": "e34f1bc9-940b-4ea6-8dec-3803833c22eb",
   "metadata": {
    "tags": []
   },
   "outputs": [],
   "source": [
    "# Set noise level etc. to get appropriate filter\n",
    "noise_sigma = 5.\n",
    "\n",
    "beam_fwhm=1.5\n",
    "ells = np.arange(mlmax+1)\n",
    "beam = maps.gauss_beam(ells, beam_fwhm)\n",
    "Nl_tt = (noise_sigma*np.pi/180./60.)**2./beam**2\n",
    "nells = {\"TT\":Nl_tt, \"EE\":2*Nl_tt, \"BB\":2*Nl_tt}\n",
    "\n",
    "#total noise \n",
    "_,tcls = futils.get_theory_dicts(grad=True, nells=nells, lmax=mlmax)"
   ]
  },
  {
   "cell_type": "markdown",
   "id": "e39cb33c-add2-4e09-bf5b-072bfb8d6039",
   "metadata": {},
   "source": [
    "Read in foreground-only alm and get power spectrum (we'll need it later)"
   ]
  },
  {
   "cell_type": "code",
   "execution_count": null,
   "id": "5abde3de-3410-4031-8257-e733b542ec30",
   "metadata": {},
   "outputs": [],
   "source": [
    "fg_alm = hp.read_alm(\"/pscratch/sd/m/maccrann/cmb/fg_outputs/cib_fcut7/prep_map/cmb_orig/fg_nonoise_alms_0093.fits\")\n",
    "cl_fg = get_cl_smooth(fg_alm)"
   ]
  },
  {
   "cell_type": "markdown",
   "id": "d0f362be-33d3-4887-9a46-9fb2e911856e",
   "metadata": {},
   "source": [
    "Setup lensing reconstruction stuff"
   ]
  },
  {
   "cell_type": "code",
   "execution_count": null,
   "id": "ffe21b63-9abf-4baf-94f1-3e3b24ef45e4",
   "metadata": {},
   "outputs": [],
   "source": [
    "px = qe.pixelization(nside=4096)\n",
    "setup = setup_AAAA_recon(px, lmin, lmax, mlmax,\n",
    "                tcls,\n",
    "                do_psh=False, do_prh=False, do_psh_prh=False,\n",
    "                profile=None)"
   ]
  },
  {
   "cell_type": "markdown",
   "id": "bdaf27b2-b642-4fbb-92d1-2ec360b8b2fe",
   "metadata": {},
   "source": [
    "Get foreground bias estimates.\n",
    "We need a few more things \n",
    "- true lensing potential alms (use this to calculate primary bispectrum)\n",
    "- Two versions of the same unlensed cmb realization, one lensed by the true lensing potential,\n",
    "one lensed by some different lensing potential."
   ]
  },
  {
   "cell_type": "code",
   "execution_count": null,
   "id": "5a925777-9fab-45df-96fd-01dcf5e90ec5",
   "metadata": {
    "tags": []
   },
   "outputs": [],
   "source": [
    "kappa_alm = futils.change_alm_lmax(\n",
    "    hp.read_alm(\"/global/cfs/projectdirs/act/data/maccrann/websky/kappa_alm_lmax6000.fits\"),\n",
    "    mlmax)\n",
    "Ls = np.arange(mlmax+1)\n",
    "phi_alm = curvedsky.almxfl( kappa_alm, 1./(Ls * (Ls+1) / 2) )\n",
    "\n",
    "#cmb lensed by true kappa\n",
    "cmb_alm = futils.change_alm_lmax(\n",
    "    hp.read_alm(\"/global/cfs/projectdirs/act/data/maccrann/websky/lensed_cmb/lensed_cmb_alm_websky_cmb1999_lmax6000.fits\"),\n",
    "    mlmax)\n",
    "#same cmb lensed by a different kappa\n",
    "cmbp_alm = futils.change_alm_lmax(\n",
    "    futils.get_cmb_alm(1999,0), mlmax)"
   ]
  },
  {
   "cell_type": "code",
   "execution_count": null,
   "id": "39f59185-c1d9-4076-bf3e-5267d0c8061b",
   "metadata": {
    "tags": []
   },
   "outputs": [],
   "source": [
    "bias_stuff = get_bias_terms(fg_alm, setup, \n",
    "                   phi_alm, cmb_alm, cmbp_alm,\n",
    "                   ests=[\"qe\"], comm=None)"
   ]
  },
  {
   "cell_type": "code",
   "execution_count": null,
   "id": "52a2d4b0-007c-4cab-88ab-bba1df4012d6",
   "metadata": {},
   "outputs": [],
   "source": []
  }
 ],
 "metadata": {
  "kernelspec": {
   "display_name": "lenspipe_new",
   "language": "python",
   "name": "env"
  },
  "language_info": {
   "codemirror_mode": {
    "name": "ipython",
    "version": 3
   },
   "file_extension": ".py",
   "mimetype": "text/x-python",
   "name": "python",
   "nbconvert_exporter": "python",
   "pygments_lexer": "ipython3",
   "version": "3.10.14"
  }
 },
 "nbformat": 4,
 "nbformat_minor": 5
}
