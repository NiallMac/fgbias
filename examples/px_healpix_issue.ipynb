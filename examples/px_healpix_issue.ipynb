{
 "cells": [
  {
   "cell_type": "markdown",
   "id": "8b14f0bb-dae2-4c10-bd3f-6424aee12fa5",
   "metadata": {},
   "source": [
    "## healpix qe pixelisation issue "
   ]
  },
  {
   "cell_type": "code",
   "execution_count": 3,
   "id": "854d1ba2-fdd6-457d-ab41-e286e02f5817",
   "metadata": {
    "tags": []
   },
   "outputs": [],
   "source": [
    "import os\n",
    "os.environ[\"DISABLE_MPI\"]=\"true\"\n",
    "from falafel import utils as futils, qe\n",
    "import numpy as np\n",
    "from orphics import maps\n",
    "import healpy as hp\n",
    "from pixell import curvedsky, enmap, enplot\n",
    "import matplotlib.pyplot as plt"
   ]
  },
  {
   "cell_type": "markdown",
   "id": "ba2d7e66-2ad1-48c7-8a55-4603ab98d626",
   "metadata": {
    "tags": []
   },
   "source": [
    "Set some options for the reconstruction"
   ]
  },
  {
   "cell_type": "code",
   "execution_count": 4,
   "id": "6cc599fb-f3dd-496d-afc7-fa54702fcf1a",
   "metadata": {
    "tags": []
   },
   "outputs": [],
   "source": [
    "lmin = 100\n",
    "lmax = 2000\n",
    "mlmax = 2500"
   ]
  },
  {
   "cell_type": "code",
   "execution_count": 5,
   "id": "e34f1bc9-940b-4ea6-8dec-3803833c22eb",
   "metadata": {
    "tags": []
   },
   "outputs": [],
   "source": [
    "# Set noise level and beam (this will enter into to the Cinv filter used for lensing reconstruction)\n",
    "# we're not actually going to add noise to the simulation here\n",
    "noise_sigma = 5. #muK\n",
    "beam_fwhm=1.5 #arcmin\n",
    "ells = np.arange(mlmax+1)\n",
    "beam = maps.gauss_beam(ells, beam_fwhm)\n",
    "Nl_tt = (noise_sigma*np.pi/180./60.)**2./beam**2\n",
    "nells = {\"TT\":Nl_tt, \"EE\":2*Nl_tt, \"BB\":2*Nl_tt}\n",
    "\n",
    "#use falafel to get theory Cls \n",
    "ucls,tcls = futils.get_theory_dicts(grad=True, nells=nells, lmax=mlmax)"
   ]
  },
  {
   "cell_type": "markdown",
   "id": "fbd5daff-d67a-4e4e-84aa-86e917a3ac5b",
   "metadata": {},
   "source": [
    "Generate point-source map and convert to alm"
   ]
  },
  {
   "cell_type": "code",
   "execution_count": 6,
   "id": "c1c94b01-c8f9-4323-8f22-56f0c327d07d",
   "metadata": {
    "tags": []
   },
   "outputs": [],
   "source": [
    "nside=2048\n",
    "nsource=10000\n",
    "flux=50. #mJY\n",
    "\n",
    "#assing to random pixels \n",
    "npix = hp.nside2npix(nside)\n",
    "flux_density_map = np.zeros(hp.nside2npix(nside))\n",
    "pixel_area = hp.nside2pixarea(nside)\n",
    "source_pix = np.random.choice(np.arange(npix),size=nsource)\n",
    "np.add.at(flux_density_map, source_pix, flux/pixel_area)\n",
    "#flux_density_map is in mJY per sr\n",
    "#convert to CMB temp units\n",
    "def flux_density_to_temp(freq):\n",
    "    #get factor for converting delta flux density in MJy/sr\n",
    "    #to delta T in CMB units. freq in GHz\n",
    "    freq = float(freq)\n",
    "    x = freq / 56.8\n",
    "    return (1.05e3 * (np.exp(x)-1)**2 *\n",
    "            np.exp(-x) * (freq / 100)**-4)\n",
    "\n",
    "source_temp_map = (flux_density_map / 1.e9) * flux_density_to_temp(150.)"
   ]
  },
  {
   "cell_type": "code",
   "execution_count": 7,
   "id": "239672b1-15da-47d9-9a11-18bb41f2e303",
   "metadata": {
    "tags": []
   },
   "outputs": [
    {
     "data": {
      "image/png": "[encoded data removed]",
      "text/plain": [
       "<Figure size 850x540 with 2 Axes>"
      ]
     },
     "metadata": {},
     "output_type": "display_data"
    }
   ],
   "source": [
    "%matplotlib inline\n",
    "\n",
    "hp.mollview(source_temp_map)"
   ]
  },
  {
   "cell_type": "markdown",
   "id": "74a26643-c899-4d51-8e23-d32d3c342df9",
   "metadata": {
    "tags": []
   },
   "source": [
    "convert to alm and filter"
   ]
  },
  {
   "cell_type": "code",
   "execution_count": 8,
   "id": "c7b5916c-01a1-4e03-9337-503a9740d71c",
   "metadata": {
    "tags": []
   },
   "outputs": [],
   "source": [
    "fg_alm = hp.map2alm(source_temp_map, lmax=mlmax)"
   ]
  },
  {
   "cell_type": "code",
   "execution_count": 9,
   "id": "b0f2f8e1-6a49-48e0-8461-5619b294134f",
   "metadata": {
    "tags": []
   },
   "outputs": [],
   "source": [
    "fg_alm_filtered = qe.filter_alms(fg_alm, 1./tcls[\"TT\"] ,lmin=lmin,lmax=lmax)"
   ]
  },
  {
   "cell_type": "markdown",
   "id": "21995819-04ab-4d41-8cdf-00691f530226",
   "metadata": {},
   "source": [
    "Setup falafel pixelisation objects"
   ]
  },
  {
   "cell_type": "code",
   "execution_count": 10,
   "id": "84c7de2e-898f-4210-90cd-1615feaa50d9",
   "metadata": {
    "tags": []
   },
   "outputs": [],
   "source": [
    "px_hp = qe.pixelization(nside=2048)\n",
    "shape, wcs = enmap.fullsky_geometry(res=np.radians(1. / 60.0))\n",
    "px_car = qe.pixelization(shape, wcs)"
   ]
  },
  {
   "cell_type": "markdown",
   "id": "64bb7f4f-c4a4-4f8e-a3a9-d3162ed434a2",
   "metadata": {},
   "source": [
    "And run source estimator with both pixelisations"
   ]
  },
  {
   "cell_type": "code",
   "execution_count": null,
   "id": "c650e797-5259-48ad-aac0-02f70ba56d04",
   "metadata": {
    "tags": []
   },
   "outputs": [
    {
     "name": "stderr",
     "output_type": "stream",
     "text": [
      "/global/cfs/projectdirs/act/data/maccrann/lenspipe_new/lib/python3.10/site-packages/pixell/curvedsky.py:147: UserWarning: The tweak argument is deprecated and does nothing after the libsharp→ducc transition. It will be removed in a future version\n",
      "  if tweak: warnings.warn(\"The tweak argument is deprecated and does nothing after the libsharp→ducc transition. It will be removed in a future version\")\n",
      "/global/cfs/projectdirs/act/data/maccrann/lenspipe_new/lib/python3.10/site-packages/pixell/curvedsky.py:147: UserWarning: The tweak argument is deprecated and does nothing after the libsharp→ducc transition. It will be removed in a future version\n",
      "  if tweak: warnings.warn(\"The tweak argument is deprecated and does nothing after the libsharp→ducc transition. It will be removed in a future version\")\n",
      "/global/cfs/projectdirs/act/data/maccrann/lenspipe_new/lib/python3.10/site-packages/pixell/curvedsky.py:284: UserWarning: The tweak argument is deprecated and does nothing after the libsharp→ducc transition. It will be removed in a future version\n",
      "  if tweak: warnings.warn(\"The tweak argument is deprecated and does nothing after the libsharp→ducc transition. It will be removed in a future version\")\n"
     ]
    }
   ],
   "source": [
    "src_hp_nonorm = qe.qe_source(px_hp, mlmax, fg_alm_filtered,\n",
    "                          xfTalm=fg_alm_filtered)\n",
    "src_car_nonorm = qe.qe_source(px_car, mlmax, fg_alm_filtered,\n",
    "                          xfTalm=fg_alm_filtered)"
   ]
  },
  {
   "cell_type": "markdown",
   "id": "cf71d69d-dc83-4ccc-85e3-771c5fc2145d",
   "metadata": {},
   "source": [
    "Compare alm values with a scatter plot"
   ]
  },
  {
   "cell_type": "code",
   "execution_count": null,
   "id": "9787871a-5e1a-4e1e-b445-0bd10cc60a78",
   "metadata": {
    "tags": []
   },
   "outputs": [],
   "source": [
    "%matplotlib inline\n",
    "\n",
    "fig,ax=plt.subplots()\n",
    "\n",
    "ax.plot(src_hp_nonorm, src_car_nonorm, ',')\n",
    "ax.set_ylim([-5.e5,5.e5])\n",
    "ax.set_xlim([-5.e5,5.e5])"
   ]
  },
  {
   "cell_type": "markdown",
   "id": "20e910c3-5d93-4b1f-ac43-3a33ecfed457",
   "metadata": {
    "tags": []
   },
   "source": [
    "run source estimator"
   ]
  },
  {
   "cell_type": "code",
   "execution_count": null,
   "id": "09abdb21-1f8a-4b7d-ad2a-897505a7f2d2",
   "metadata": {},
   "outputs": [],
   "source": []
  },
  {
   "cell_type": "code",
   "execution_count": null,
   "id": "b460e1eb-0570-491e-8be6-cd7af427be60",
   "metadata": {},
   "outputs": [],
   "source": []
  }
 ],
 "metadata": {
  "kernelspec": {
   "display_name": "lenspipe_new",
   "language": "python",
   "name": "env"
  },
  "language_info": {
   "codemirror_mode": {
    "name": "ipython",
    "version": 3
   },
   "file_extension": ".py",
   "mimetype": "text/x-python",
   "name": "python",
   "nbconvert_exporter": "python",
   "pygments_lexer": "ipython3",
   "version": "3.10.14"
  }
 },
 "nbformat": 4,
 "nbformat_minor": 5
}
